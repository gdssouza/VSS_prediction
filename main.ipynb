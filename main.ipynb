{
 "cells": [
  {
   "cell_type": "code",
   "execution_count": 1,
   "metadata": {},
   "outputs": [],
   "source": [
    "import pandas as pd\n",
    "import matplotlib.pyplot as plt"
   ]
  },
  {
   "cell_type": "code",
   "execution_count": 2,
   "metadata": {},
   "outputs": [
    {
     "data": {
      "text/html": [
       "<div>\n",
       "<style scoped>\n",
       "    .dataframe tbody tr th:only-of-type {\n",
       "        vertical-align: middle;\n",
       "    }\n",
       "\n",
       "    .dataframe tbody tr th {\n",
       "        vertical-align: top;\n",
       "    }\n",
       "\n",
       "    .dataframe thead th {\n",
       "        text-align: right;\n",
       "    }\n",
       "</style>\n",
       "<table border=\"1\" class=\"dataframe\">\n",
       "  <thead>\n",
       "    <tr style=\"text-align: right;\">\n",
       "      <th></th>\n",
       "      <th>DATE</th>\n",
       "      <th>TIME</th>\n",
       "      <th>DOY</th>\n",
       "      <th>VSSX</th>\n",
       "      <th>VSSY</th>\n",
       "      <th>VSSZ</th>\n",
       "      <th>VSSG</th>\n",
       "    </tr>\n",
       "  </thead>\n",
       "  <tbody>\n",
       "    <tr>\n",
       "      <th>0</th>\n",
       "      <td>2019-01-17</td>\n",
       "      <td>00:00:00.000</td>\n",
       "      <td>17</td>\n",
       "      <td>16484.7</td>\n",
       "      <td>-6926.9</td>\n",
       "      <td>-14876.6</td>\n",
       "      <td>0.1</td>\n",
       "    </tr>\n",
       "    <tr>\n",
       "      <th>1</th>\n",
       "      <td>2019-01-17</td>\n",
       "      <td>00:01:00.000</td>\n",
       "      <td>17</td>\n",
       "      <td>16485.3</td>\n",
       "      <td>-6927.1</td>\n",
       "      <td>-14876.4</td>\n",
       "      <td>0.1</td>\n",
       "    </tr>\n",
       "    <tr>\n",
       "      <th>2</th>\n",
       "      <td>2019-01-17</td>\n",
       "      <td>00:02:00.000</td>\n",
       "      <td>17</td>\n",
       "      <td>16485.7</td>\n",
       "      <td>-6927.2</td>\n",
       "      <td>-14876.2</td>\n",
       "      <td>0.1</td>\n",
       "    </tr>\n",
       "    <tr>\n",
       "      <th>3</th>\n",
       "      <td>2019-01-17</td>\n",
       "      <td>00:03:00.000</td>\n",
       "      <td>17</td>\n",
       "      <td>16486.4</td>\n",
       "      <td>-6927.3</td>\n",
       "      <td>-14876.0</td>\n",
       "      <td>0.1</td>\n",
       "    </tr>\n",
       "    <tr>\n",
       "      <th>4</th>\n",
       "      <td>2019-01-17</td>\n",
       "      <td>00:04:00.000</td>\n",
       "      <td>17</td>\n",
       "      <td>16487.0</td>\n",
       "      <td>-6927.3</td>\n",
       "      <td>-14875.9</td>\n",
       "      <td>0.2</td>\n",
       "    </tr>\n",
       "  </tbody>\n",
       "</table>\n",
       "</div>"
      ],
      "text/plain": [
       "         DATE          TIME  DOY     VSSX    VSSY     VSSZ  VSSG\n",
       "0  2019-01-17  00:00:00.000   17  16484.7 -6926.9 -14876.6   0.1\n",
       "1  2019-01-17  00:01:00.000   17  16485.3 -6927.1 -14876.4   0.1\n",
       "2  2019-01-17  00:02:00.000   17  16485.7 -6927.2 -14876.2   0.1\n",
       "3  2019-01-17  00:03:00.000   17  16486.4 -6927.3 -14876.0   0.1\n",
       "4  2019-01-17  00:04:00.000   17  16487.0 -6927.3 -14875.9   0.2"
      ]
     },
     "execution_count": 2,
     "metadata": {},
     "output_type": "execute_result"
    }
   ],
   "source": [
    "#lendo arquivos\n",
    "log = open(\"data_vss/log.txt\",'r')\n",
    "\n",
    "df_min = pd.read_csv(\"data_vss/vss20190117dmin.min\",skiprows=24,sep=\"\\s+\",usecols=[0,1,2,3,4,5,6])\n",
    "for linha in range(4):\n",
    "    log.readline()\n",
    "for caminho in log:\n",
    "    caminho = caminho.strip()[:-2]\n",
    "    df2 = pd.read_csv(\"data_vss/\"+caminho,skiprows=24,sep=\"\\s+\",usecols=[0,1,2,3,4,5,6])\n",
    "    df_min = pd.concat([df_min, df2])\n",
    "    \n",
    "log.close()\n",
    "df_min.head()"
   ]
  },
  {
   "cell_type": "code",
   "execution_count": 3,
   "metadata": {},
   "outputs": [
    {
     "data": {
      "text/html": [
       "<div>\n",
       "<style scoped>\n",
       "    .dataframe tbody tr th:only-of-type {\n",
       "        vertical-align: middle;\n",
       "    }\n",
       "\n",
       "    .dataframe tbody tr th {\n",
       "        vertical-align: top;\n",
       "    }\n",
       "\n",
       "    .dataframe thead th {\n",
       "        text-align: right;\n",
       "    }\n",
       "</style>\n",
       "<table border=\"1\" class=\"dataframe\">\n",
       "  <thead>\n",
       "    <tr style=\"text-align: right;\">\n",
       "      <th></th>\n",
       "      <th>DATE</th>\n",
       "      <th>TIME</th>\n",
       "      <th>DOY</th>\n",
       "      <th>VSSX</th>\n",
       "      <th>VSSY</th>\n",
       "      <th>VSSZ</th>\n",
       "      <th>VSSG</th>\n",
       "    </tr>\n",
       "  </thead>\n",
       "  <tbody>\n",
       "    <tr>\n",
       "      <th>0</th>\n",
       "      <td>2019-01-17</td>\n",
       "      <td>00:00:00.000</td>\n",
       "      <td>17</td>\n",
       "      <td>16484.7</td>\n",
       "      <td>-6926.9</td>\n",
       "      <td>-14876.6</td>\n",
       "      <td>0.1</td>\n",
       "    </tr>\n",
       "    <tr>\n",
       "      <th>1</th>\n",
       "      <td>2019-01-18</td>\n",
       "      <td>00:00:00.000</td>\n",
       "      <td>18</td>\n",
       "      <td>16505.9</td>\n",
       "      <td>-6932.3</td>\n",
       "      <td>-14875.7</td>\n",
       "      <td>0.1</td>\n",
       "    </tr>\n",
       "    <tr>\n",
       "      <th>2</th>\n",
       "      <td>2019-01-19</td>\n",
       "      <td>00:00:00.000</td>\n",
       "      <td>19</td>\n",
       "      <td>16523.1</td>\n",
       "      <td>-6934.0</td>\n",
       "      <td>-14871.8</td>\n",
       "      <td>0.1</td>\n",
       "    </tr>\n",
       "    <tr>\n",
       "      <th>3</th>\n",
       "      <td>2019-01-20</td>\n",
       "      <td>00:00:00.000</td>\n",
       "      <td>20</td>\n",
       "      <td>16511.8</td>\n",
       "      <td>-6937.1</td>\n",
       "      <td>-14870.4</td>\n",
       "      <td>0.2</td>\n",
       "    </tr>\n",
       "    <tr>\n",
       "      <th>4</th>\n",
       "      <td>2019-01-21</td>\n",
       "      <td>00:00:00.000</td>\n",
       "      <td>21</td>\n",
       "      <td>16522.2</td>\n",
       "      <td>-6932.7</td>\n",
       "      <td>-14872.2</td>\n",
       "      <td>99999.0</td>\n",
       "    </tr>\n",
       "  </tbody>\n",
       "</table>\n",
       "</div>"
      ],
      "text/plain": [
       "         DATE          TIME  DOY     VSSX    VSSY     VSSZ     VSSG\n",
       "0  2019-01-17  00:00:00.000   17  16484.7 -6926.9 -14876.6      0.1\n",
       "1  2019-01-18  00:00:00.000   18  16505.9 -6932.3 -14875.7      0.1\n",
       "2  2019-01-19  00:00:00.000   19  16523.1 -6934.0 -14871.8      0.1\n",
       "3  2019-01-20  00:00:00.000   20  16511.8 -6937.1 -14870.4      0.2\n",
       "4  2019-01-21  00:00:00.000   21  16522.2 -6932.7 -14872.2  99999.0"
      ]
     },
     "execution_count": 3,
     "metadata": {},
     "output_type": "execute_result"
    }
   ],
   "source": [
    "#mudando o range: minutos -> dias (meia noite)\n",
    "horario = \"00:00:00.000\"\n",
    "df_dia = df_min[df_min.TIME == horario ].reset_index(drop=True)\n",
    "#excuindo outliers\n",
    "df_dia = df_dia[df_dia.VSSX != 99999.0]\n",
    "df_dia = df_dia[df_dia.VSSY != 99999.0]\n",
    "df_dia = df_dia[df_dia.VSSZ != 99999.0]\n",
    "#salvando\n",
    "df_dia.to_csv(\"vss_2019_dia\")\n",
    "df_dia.head()"
   ]
  },
  {
   "cell_type": "code",
   "execution_count": 5,
   "metadata": {},
   "outputs": [
    {
     "data": {
      "image/png": "[encoded data removed]",
      "text/plain": [
       "<Figure size 432x288 with 1 Axes>"
      ]
     },
     "metadata": {
      "needs_background": "light"
     },
     "output_type": "display_data"
    }
   ],
   "source": [
    "#testando\n",
    "plt.plot(df_dia.index,df_dia.VSSX)\n",
    "plt.show()"
   ]
  },
  {
   "cell_type": "code",
   "execution_count": null,
   "metadata": {},
   "outputs": [],
   "source": []
  }
 ],
 "metadata": {
  "kernelspec": {
   "display_name": "Python 3",
   "language": "python",
   "name": "python3"
  },
  "language_info": {
   "codemirror_mode": {
    "name": "ipython",
    "version": 3
   },
   "file_extension": ".py",
   "mimetype": "text/x-python",
   "name": "python",
   "nbconvert_exporter": "python",
   "pygments_lexer": "ipython3",
   "version": "3.8.5"
  }
 },
 "nbformat": 4,
 "nbformat_minor": 4
}
